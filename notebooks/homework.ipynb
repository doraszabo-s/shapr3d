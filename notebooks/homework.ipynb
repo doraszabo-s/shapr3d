{
 "cells": [
  {
   "cell_type": "markdown",
   "metadata": {},
   "source": [
    "# Homework Assignment"
   ]
  },
  {
   "cell_type": "markdown",
   "metadata": {},
   "source": [
    "## Introduction\n",
    "\n",
    "Goal of the homework assignment was to create insights from a sample database containing information about installs and transactions of the Shapr3d software. Moreover to replicate a key mertric, namely the `install_to_subscribe_ratio`.\n",
    "\n",
    "Without further specification of this KPI, I have defined it as the ratio of application installs with transactions regardless of the transaction type. Meaning both trial and refunded transactions count as a valid subscription. More derivatives of this KPI can be developed that further elaborate this metric. For instance, the ratio of paid installs, ratio of monthly/yearly subscriptions, etc.\n",
    "\n",
    "\n",
    "This notebook summarizes the findings as well as allows the reader to replicate the reesults.\n",
    "\n",
    "## Summary of findings\n",
    "\n",
    "- The overall install to subscribe ratio is 2.22% after the subscription service was launched in 2020-05-01.\n",
    "- It fluctuates between 1.5% to 2.99% depending on the month and most probably the actual marketing campaigns and offers.\n",
    "- Christmas period had the most installs but the conversion rate was the lowest. It can be the result of some focues marketing activity. This hypothesis needs to be validated further.\n",
    "- The effect of marketing campaigns were also analyzed briefly. Users coming from Apple Ad network convert in higher rates than the organic users. The reason behind that could be that more relevant users are reached or the sign up process is easier there. To draw final conclusions, a further analysis needs to be performed.\n",
    "\n",
    "\n",
    "## Assumptions infered from the data\n",
    "\n",
    "- Each install is unique and no filtering needed to be applied.\n",
    "- One user can have multiple installs and all of them counts in our `install_to_subscribe_ratio` metric.\n",
    "- The transactions table contained unexplained records, namely duplicates were identifed where the `paid_at_date` equals the `expiration_date`. The root cause of this could not be identifed from the dataset. Therefore these records (86) were removed.\n",
    "\n",
    "\n",
    "## Potential further steps to take\n",
    "\n",
    "- Developing more, advanced, interactive visualizations to showcase the insights.\n",
    "- Summary of findings in a presentation format. Following a top down approach: focusing first on the high level resutls firts, then break it down to the interesting details.\n",
    "- Validation of the findings with deeper analysis of the data and with measuring statistical significance.\n",
    "- Understanding the effect of the trial period, especially on the conversion rate.\n",
    "- Regional breakdown of the user base and potential conversion differences."
   ]
  },
  {
   "cell_type": "code",
   "execution_count": 56,
   "metadata": {},
   "outputs": [
    {
     "data": {
      "text/html": [
       "<script>\n",
       "code_show=true; \n",
       "function code_toggle() {\n",
       " if (code_show){\n",
       " $('div.input').hide();\n",
       " } else {\n",
       " $('div.input').show();\n",
       " }\n",
       " code_show = !code_show\n",
       "} \n",
       "$( document ).ready(code_toggle);\n",
       "</script>\n",
       "<form action=\"javascript:code_toggle()\"><input type=\"submit\" value=\"Click here to toggle on/off the raw code.\"></form>"
      ],
      "text/plain": [
       "<IPython.core.display.HTML object>"
      ]
     },
     "execution_count": 56,
     "metadata": {},
     "output_type": "execute_result"
    }
   ],
   "source": [
    "from IPython.display import HTML\n",
    "\n",
    "HTML('''<script>\n",
    "code_show=true; \n",
    "function code_toggle() {\n",
    " if (code_show){\n",
    " $('div.input').hide();\n",
    " } else {\n",
    " $('div.input').show();\n",
    " }\n",
    " code_show = !code_show\n",
    "} \n",
    "$( document ).ready(code_toggle);\n",
    "</script>\n",
    "<form action=\"javascript:code_toggle()\"><input type=\"submit\" value=\"Click here to toggle on/off the raw code.\"></form>''')"
   ]
  },
  {
   "cell_type": "code",
   "execution_count": 57,
   "metadata": {},
   "outputs": [],
   "source": [
    "import pandas as pd\n",
    "from pysqlite3 import dbapi2 as sqlite3\n",
    "from pathlib import Path\n",
    "import sweetviz as sv\n",
    "import warnings\n",
    "warnings.filterwarnings(\"ignore\")\n",
    "\n",
    "pd.set_option('display.max_rows', 200)\n",
    "pd.set_option('display.max_columns', 200)\n",
    "\n",
    "data_path = Path(\"../data\")\n",
    "\n",
    "installs = pd.read_csv(data_path.joinpath(\"shapr3d_ds_hw_installs.csv\"), parse_dates=[\"date\"])\n",
    "transactions = pd.read_csv(data_path.joinpath(\"shapr3d_ds_hw_transaction.csv\"), parse_dates=[\"paid_at_date\"])\n"
   ]
  },
  {
   "cell_type": "code",
   "execution_count": 58,
   "metadata": {},
   "outputs": [
    {
     "data": {
      "text/plain": [
       "(267035, 43895)"
      ]
     },
     "execution_count": 58,
     "metadata": {},
     "output_type": "execute_result"
    }
   ],
   "source": [
    "# Load the tables to a sqlite database\n",
    "con = sqlite3.connect(\"homework.sqlite\")\n",
    "\n",
    "installs.to_sql(\"installs\", con, if_exists=\"replace\"), transactions.to_sql(\"transactions\", con, if_exists=\"replace\")"
   ]
  },
  {
   "cell_type": "markdown",
   "metadata": {},
   "source": [
    "### EDA \n",
    "\n",
    "Firts I ran some reports to get an understanding of the provided datasets.\n",
    "\n",
    "The following remarks can be made from the installs:\n",
    "- iOs is the dominant platform for the users.\n",
    "- user_id is not unique, therefore the same user can use multiple devices.\n",
    "- ~57% of the installs come from organic sources. While Google and Apple Ad networks contribute ~22-19% each. Meta platform is not used widely.\n"
   ]
  },
  {
   "cell_type": "code",
   "execution_count": 59,
   "metadata": {},
   "outputs": [
    {
     "data": {
      "application/json": {
       "ascii": false,
       "bar_format": "{desc:45}|{bar}| [{percentage:3.0f}%]   {elapsed} -> ({remaining} left)",
       "colour": null,
       "elapsed": 0.07141542434692383,
       "initial": 0,
       "n": 0,
       "ncols": null,
       "nrows": null,
       "postfix": null,
       "prefix": "",
       "rate": null,
       "total": 8,
       "unit": "it",
       "unit_divisor": 1000,
       "unit_scale": false
      },
      "application/vnd.jupyter.widget-view+json": {
       "model_id": "bdb285402fa4493d87c96d0d53379460",
       "version_major": 2,
       "version_minor": 0
      },
      "text/plain": [
       "                                             |          | [  0%]   00:00 -> (? left)"
      ]
     },
     "metadata": {},
     "output_type": "display_data"
    },
    {
     "name": "stdout",
     "output_type": "stream",
     "text": [
      "Report ../reports/installs.html was generated! NOTEBOOK/COLAB USERS: the web browser MAY not pop up, regardless, the report IS saved in your notebook/colab files.\n"
     ]
    }
   ],
   "source": [
    "installs_report = sv.analyze(installs)\n",
    "installs_report.show_html(\"../reports/installs.html\")"
   ]
  },
  {
   "cell_type": "markdown",
   "metadata": {},
   "source": [
    "The following remarks can be made from the transactions:\n",
    "- a user can have multiple transactions therefore if someone has a monthly subscription that will result in a record in each month\n",
    "- 45% of the sampled transactions are coming from yearly subscriptions. Which is quite high but on the other hand it is heavily incentivized.\n",
    "- It can also be the cause of the majority of the users have 1 transaction only since the observed timeframe is not that long. It needs to be validated further."
   ]
  },
  {
   "cell_type": "code",
   "execution_count": 60,
   "metadata": {},
   "outputs": [
    {
     "data": {
      "application/json": {
       "ascii": false,
       "bar_format": "{desc:45}|{bar}| [{percentage:3.0f}%]   {elapsed} -> ({remaining} left)",
       "colour": null,
       "elapsed": 0.019903898239135742,
       "initial": 0,
       "n": 0,
       "ncols": null,
       "nrows": null,
       "postfix": null,
       "prefix": "",
       "rate": null,
       "total": 9,
       "unit": "it",
       "unit_divisor": 1000,
       "unit_scale": false
      },
      "application/vnd.jupyter.widget-view+json": {
       "model_id": "5ff7da5090904b5396c7ec5dc76d7b95",
       "version_major": 2,
       "version_minor": 0
      },
      "text/plain": [
       "                                             |          | [  0%]   00:00 -> (? left)"
      ]
     },
     "metadata": {},
     "output_type": "display_data"
    },
    {
     "name": "stdout",
     "output_type": "stream",
     "text": [
      "Report ../reports/transactions.html was generated! NOTEBOOK/COLAB USERS: the web browser MAY not pop up, regardless, the report IS saved in your notebook/colab files.\n"
     ]
    }
   ],
   "source": [
    "transactions_report = sv.analyze(transactions)\n",
    "transactions_report.show_html(\"../reports/transactions.html\")"
   ]
  },
  {
   "cell_type": "code",
   "execution_count": 63,
   "metadata": {},
   "outputs": [
    {
     "data": {
      "text/plain": [
       "<AxesSubplot:title={'center':'Number of users per transaction count'}, ylabel='Frequency'>"
      ]
     },
     "execution_count": 63,
     "metadata": {},
     "output_type": "execute_result"
    },
    {
     "data": {
      "image/png": "[encoded data removed]",
      "text/plain": [
       "<Figure size 640x480 with 1 Axes>"
      ]
     },
     "metadata": {},
     "output_type": "display_data"
    }
   ],
   "source": [
    "transactions.groupby(\"user_id\").paid_at_date.count().sort_values(ascending=False).plot(kind=\"hist\", bins=50, title=\"Number of users per transaction count\")"
   ]
  },
  {
   "cell_type": "markdown",
   "metadata": {},
   "source": [
    "### Install to subscribe ratio\n",
    "\n",
    "Observations:\n",
    "- The exact value of this metric in the complete sample is 2.2% which is around the industry average according to [CleverTap statistics](https://clevertap.com/blog/best-conversion-rate-for-mobile-app-downloads/)\n",
    "- Paid subscriptions were only available from 2020-05-01. The value defined above already icorporates this insight.\n",
    "- During Christmas period the install to subscribe ratio was the lowest but the subscribe rate was the highest. It could be the result of marketing activites or special discounts."
   ]
  },
  {
   "cell_type": "code",
   "execution_count": 64,
   "metadata": {},
   "outputs": [],
   "source": [
    "query = \"\"\"\n",
    "\n",
    "WITH users as (\n",
    "    select\n",
    "    i.device_id\n",
    "    ,t.user_id\n",
    "    ,i.date as install_date\n",
    "    ,i.media_source\n",
    "    ,i.channel\n",
    "    ,i.platform\n",
    "    ,i.country_code                                                                 as install_country\n",
    "    ,t.paid_at_date\n",
    "    ,t.trial\n",
    "    ,t.is_refunded\n",
    "    ,t.country_code                                                                 as transaction_country\n",
    "    ,t.license\n",
    "    ,t.subscription_period\n",
    "    ,julianday(t.paid_at_date) - julianday(i.date)                                  as subs_datediff\n",
    "    ,case when t.user_id is not null then 1 else 0 end                              as has_transaction\n",
    "    ,row_number() over(partition by i.device_id, t.user_id, i.date \n",
    "                    order by julianday(t.paid_at_date) - julianday(i.date) asc)     as transaction_order\n",
    "    \n",
    "    from installs as i\n",
    "\n",
    "    left join transactions as t\n",
    "        on t.user_id = i.user_id\n",
    "        and t.paid_at_date >= i.date\n",
    "        and t.paid_at_date != expiration_date  -- filter out possible technical errors\n",
    "\n",
    ")\n",
    "\n",
    "select \n",
    "*\n",
    "from users\n",
    "where transaction_order = 1\n",
    "\n",
    "\n",
    "\"\"\"\n",
    "\n",
    "joined = pd.read_sql(query , con, parse_dates=[\"install_date\", \"paid_at_date\"]).drop(columns=[\"transaction_order\"])\n",
    "joined['install_month'] = joined['install_date'].to_numpy().astype('datetime64[M]')"
   ]
  },
  {
   "cell_type": "code",
   "execution_count": 65,
   "metadata": {},
   "outputs": [
    {
     "name": "stdout",
     "output_type": "stream",
     "text": [
      "Install to subscribe ratio in the sample dataset: 2.22 %\n"
     ]
    }
   ],
   "source": [
    "overall_ratio = joined.query(\"install_month >= '2020-05-01'\")['has_transaction'].mean()\n",
    "print(\"Install to subscribe ratio in the sample dataset: {0:.2f} %\".format(overall_ratio*100, format=\".2f\"))"
   ]
  },
  {
   "cell_type": "code",
   "execution_count": 66,
   "metadata": {},
   "outputs": [
    {
     "data": {
      "text/html": [
       "<div>\n",
       "<style scoped>\n",
       "    .dataframe tbody tr th:only-of-type {\n",
       "        vertical-align: middle;\n",
       "    }\n",
       "\n",
       "    .dataframe tbody tr th {\n",
       "        vertical-align: top;\n",
       "    }\n",
       "\n",
       "    .dataframe thead th {\n",
       "        text-align: right;\n",
       "    }\n",
       "</style>\n",
       "<table border=\"1\" class=\"dataframe\">\n",
       "  <thead>\n",
       "    <tr style=\"text-align: right;\">\n",
       "      <th></th>\n",
       "      <th>install_month</th>\n",
       "      <th>install_count</th>\n",
       "      <th>transactions</th>\n",
       "      <th>install_to_subscribe_ratio</th>\n",
       "    </tr>\n",
       "  </thead>\n",
       "  <tbody>\n",
       "    <tr>\n",
       "      <th>0</th>\n",
       "      <td>2020-01-01</td>\n",
       "      <td>13541</td>\n",
       "      <td>0</td>\n",
       "      <td>0.000000</td>\n",
       "    </tr>\n",
       "    <tr>\n",
       "      <th>1</th>\n",
       "      <td>2020-02-01</td>\n",
       "      <td>11196</td>\n",
       "      <td>0</td>\n",
       "      <td>0.000000</td>\n",
       "    </tr>\n",
       "    <tr>\n",
       "      <th>2</th>\n",
       "      <td>2020-03-01</td>\n",
       "      <td>1837</td>\n",
       "      <td>0</td>\n",
       "      <td>0.000000</td>\n",
       "    </tr>\n",
       "    <tr>\n",
       "      <th>3</th>\n",
       "      <td>2020-04-01</td>\n",
       "      <td>1</td>\n",
       "      <td>0</td>\n",
       "      <td>0.000000</td>\n",
       "    </tr>\n",
       "    <tr>\n",
       "      <th>4</th>\n",
       "      <td>2020-05-01</td>\n",
       "      <td>12858</td>\n",
       "      <td>335</td>\n",
       "      <td>0.026054</td>\n",
       "    </tr>\n",
       "    <tr>\n",
       "      <th>5</th>\n",
       "      <td>2020-06-01</td>\n",
       "      <td>13153</td>\n",
       "      <td>318</td>\n",
       "      <td>0.024177</td>\n",
       "    </tr>\n",
       "    <tr>\n",
       "      <th>6</th>\n",
       "      <td>2020-07-01</td>\n",
       "      <td>12828</td>\n",
       "      <td>312</td>\n",
       "      <td>0.024322</td>\n",
       "    </tr>\n",
       "    <tr>\n",
       "      <th>7</th>\n",
       "      <td>2020-08-01</td>\n",
       "      <td>10803</td>\n",
       "      <td>324</td>\n",
       "      <td>0.029992</td>\n",
       "    </tr>\n",
       "    <tr>\n",
       "      <th>8</th>\n",
       "      <td>2020-09-01</td>\n",
       "      <td>11933</td>\n",
       "      <td>316</td>\n",
       "      <td>0.026481</td>\n",
       "    </tr>\n",
       "    <tr>\n",
       "      <th>9</th>\n",
       "      <td>2020-10-01</td>\n",
       "      <td>13138</td>\n",
       "      <td>283</td>\n",
       "      <td>0.021541</td>\n",
       "    </tr>\n",
       "    <tr>\n",
       "      <th>10</th>\n",
       "      <td>2020-11-01</td>\n",
       "      <td>16181</td>\n",
       "      <td>398</td>\n",
       "      <td>0.024597</td>\n",
       "    </tr>\n",
       "    <tr>\n",
       "      <th>11</th>\n",
       "      <td>2020-12-01</td>\n",
       "      <td>17407</td>\n",
       "      <td>363</td>\n",
       "      <td>0.020854</td>\n",
       "    </tr>\n",
       "    <tr>\n",
       "      <th>12</th>\n",
       "      <td>2021-01-01</td>\n",
       "      <td>24197</td>\n",
       "      <td>367</td>\n",
       "      <td>0.015167</td>\n",
       "    </tr>\n",
       "    <tr>\n",
       "      <th>13</th>\n",
       "      <td>2021-02-01</td>\n",
       "      <td>11656</td>\n",
       "      <td>284</td>\n",
       "      <td>0.024365</td>\n",
       "    </tr>\n",
       "    <tr>\n",
       "      <th>14</th>\n",
       "      <td>2021-03-01</td>\n",
       "      <td>13325</td>\n",
       "      <td>245</td>\n",
       "      <td>0.018386</td>\n",
       "    </tr>\n",
       "    <tr>\n",
       "      <th>15</th>\n",
       "      <td>2021-04-01</td>\n",
       "      <td>12347</td>\n",
       "      <td>248</td>\n",
       "      <td>0.020086</td>\n",
       "    </tr>\n",
       "    <tr>\n",
       "      <th>16</th>\n",
       "      <td>2021-05-01</td>\n",
       "      <td>16815</td>\n",
       "      <td>269</td>\n",
       "      <td>0.015998</td>\n",
       "    </tr>\n",
       "    <tr>\n",
       "      <th>17</th>\n",
       "      <td>2021-06-01</td>\n",
       "      <td>11408</td>\n",
       "      <td>279</td>\n",
       "      <td>0.024457</td>\n",
       "    </tr>\n",
       "    <tr>\n",
       "      <th>18</th>\n",
       "      <td>2021-07-01</td>\n",
       "      <td>10680</td>\n",
       "      <td>237</td>\n",
       "      <td>0.022191</td>\n",
       "    </tr>\n",
       "    <tr>\n",
       "      <th>19</th>\n",
       "      <td>2021-08-01</td>\n",
       "      <td>10611</td>\n",
       "      <td>226</td>\n",
       "      <td>0.021299</td>\n",
       "    </tr>\n",
       "    <tr>\n",
       "      <th>20</th>\n",
       "      <td>2021-09-01</td>\n",
       "      <td>10055</td>\n",
       "      <td>242</td>\n",
       "      <td>0.024068</td>\n",
       "    </tr>\n",
       "    <tr>\n",
       "      <th>21</th>\n",
       "      <td>2021-10-01</td>\n",
       "      <td>11065</td>\n",
       "      <td>298</td>\n",
       "      <td>0.026932</td>\n",
       "    </tr>\n",
       "  </tbody>\n",
       "</table>\n",
       "</div>"
      ],
      "text/plain": [
       "   install_month  install_count  transactions  install_to_subscribe_ratio\n",
       "0     2020-01-01          13541             0                    0.000000\n",
       "1     2020-02-01          11196             0                    0.000000\n",
       "2     2020-03-01           1837             0                    0.000000\n",
       "3     2020-04-01              1             0                    0.000000\n",
       "4     2020-05-01          12858           335                    0.026054\n",
       "5     2020-06-01          13153           318                    0.024177\n",
       "6     2020-07-01          12828           312                    0.024322\n",
       "7     2020-08-01          10803           324                    0.029992\n",
       "8     2020-09-01          11933           316                    0.026481\n",
       "9     2020-10-01          13138           283                    0.021541\n",
       "10    2020-11-01          16181           398                    0.024597\n",
       "11    2020-12-01          17407           363                    0.020854\n",
       "12    2021-01-01          24197           367                    0.015167\n",
       "13    2021-02-01          11656           284                    0.024365\n",
       "14    2021-03-01          13325           245                    0.018386\n",
       "15    2021-04-01          12347           248                    0.020086\n",
       "16    2021-05-01          16815           269                    0.015998\n",
       "17    2021-06-01          11408           279                    0.024457\n",
       "18    2021-07-01          10680           237                    0.022191\n",
       "19    2021-08-01          10611           226                    0.021299\n",
       "20    2021-09-01          10055           242                    0.024068\n",
       "21    2021-10-01          11065           298                    0.026932"
      ]
     },
     "execution_count": 66,
     "metadata": {},
     "output_type": "execute_result"
    }
   ],
   "source": [
    "joined.groupby(\"install_month\").agg({\"has_transaction\": [\"count\", \"sum\", \"mean\"]}).droplevel(axis=1, level=0).reset_index().rename(columns={\"count\": \"install_count\", \"sum\": \"transactions\", \"mean\": \"install_to_subscribe_ratio\"})"
   ]
  },
  {
   "cell_type": "code",
   "execution_count": 67,
   "metadata": {},
   "outputs": [
    {
     "data": {
      "text/plain": [
       "<AxesSubplot:title={'center':'Install count per month'}, xlabel='install_month'>"
      ]
     },
     "execution_count": 67,
     "metadata": {},
     "output_type": "execute_result"
    },
    {
     "data": {
      "image/png": "[encoded data removed]",
      "text/plain": [
       "<Figure size 640x480 with 1 Axes>"
      ]
     },
     "metadata": {},
     "output_type": "display_data"
    }
   ],
   "source": [
    "joined.groupby(\"install_month\").agg({\"has_transaction\": \"size\"}).plot(title=\"Install count per month\")"
   ]
  },
  {
   "cell_type": "code",
   "execution_count": 68,
   "metadata": {},
   "outputs": [
    {
     "data": {
      "text/plain": [
       "<AxesSubplot:title={'center':'Subscription ratio per month'}, xlabel='install_month'>"
      ]
     },
     "execution_count": 68,
     "metadata": {},
     "output_type": "execute_result"
    },
    {
     "data": {
      "image/png": "[encoded data removed]",
      "text/plain": [
       "<Figure size 640x480 with 1 Axes>"
      ]
     },
     "metadata": {},
     "output_type": "display_data"
    }
   ],
   "source": [
    "joined.groupby(\"install_month\").agg({\"has_transaction\": \"mean\"}).plot(title=\"Subscription ratio per month\")"
   ]
  },
  {
   "cell_type": "markdown",
   "metadata": {},
   "source": [
    "### Effect of marketing campaigns\n",
    "\n",
    "Multiple platform are used to lure users into the app. It is worth analyzing which of these platforms are the most effective.\n",
    "\n",
    "Findings:\n",
    "- Apple Search Ads has the highest conversion rate with 2.8% which is higher than the organic 2.3%.\n",
    "- If the users paiy at least what is the cost of reaching them, then these campaigns are worth investing in.\n",
    "- Interestingly, the Google Search Ads perform the poorest with 0.5%. The reason could be that the application was designed to work in the Apple ecosystem in the begining. \n",
    "\n",
    "The difference between the conversio rates was not yet tested for significance. The sample size is quite large. Validation can be done either a Chi-square test, Bayesian methods or simply by sampling the data a few thousand times."
   ]
  },
  {
   "cell_type": "code",
   "execution_count": 69,
   "metadata": {},
   "outputs": [
    {
     "data": {
      "text/html": [
       "<div>\n",
       "<style scoped>\n",
       "    .dataframe tbody tr th:only-of-type {\n",
       "        vertical-align: middle;\n",
       "    }\n",
       "\n",
       "    .dataframe tbody tr th {\n",
       "        vertical-align: top;\n",
       "    }\n",
       "\n",
       "    .dataframe thead th {\n",
       "        text-align: right;\n",
       "    }\n",
       "</style>\n",
       "<table border=\"1\" class=\"dataframe\">\n",
       "  <thead>\n",
       "    <tr style=\"text-align: right;\">\n",
       "      <th></th>\n",
       "      <th>media_source</th>\n",
       "      <th>install_count</th>\n",
       "      <th>transactions</th>\n",
       "      <th>install_to_subscribe_ratio</th>\n",
       "    </tr>\n",
       "  </thead>\n",
       "  <tbody>\n",
       "    <tr>\n",
       "      <th>0</th>\n",
       "      <td>google_lp</td>\n",
       "      <td>57</td>\n",
       "      <td>6</td>\n",
       "      <td>0.105263</td>\n",
       "    </tr>\n",
       "    <tr>\n",
       "      <th>1</th>\n",
       "      <td>confirmation</td>\n",
       "      <td>13</td>\n",
       "      <td>1</td>\n",
       "      <td>0.076923</td>\n",
       "    </tr>\n",
       "    <tr>\n",
       "      <th>2</th>\n",
       "      <td>website</td>\n",
       "      <td>454</td>\n",
       "      <td>23</td>\n",
       "      <td>0.050661</td>\n",
       "    </tr>\n",
       "    <tr>\n",
       "      <th>3</th>\n",
       "      <td>restricted</td>\n",
       "      <td>682</td>\n",
       "      <td>23</td>\n",
       "      <td>0.033724</td>\n",
       "    </tr>\n",
       "    <tr>\n",
       "      <th>4</th>\n",
       "      <td>None</td>\n",
       "      <td>713</td>\n",
       "      <td>22</td>\n",
       "      <td>0.030856</td>\n",
       "    </tr>\n",
       "    <tr>\n",
       "      <th>5</th>\n",
       "      <td>Apple Search Ads</td>\n",
       "      <td>45630</td>\n",
       "      <td>1291</td>\n",
       "      <td>0.028293</td>\n",
       "    </tr>\n",
       "    <tr>\n",
       "      <th>6</th>\n",
       "      <td>Social_facebook</td>\n",
       "      <td>210</td>\n",
       "      <td>5</td>\n",
       "      <td>0.023810</td>\n",
       "    </tr>\n",
       "    <tr>\n",
       "      <th>7</th>\n",
       "      <td>organic</td>\n",
       "      <td>134690</td>\n",
       "      <td>3178</td>\n",
       "      <td>0.023595</td>\n",
       "    </tr>\n",
       "    <tr>\n",
       "      <th>8</th>\n",
       "      <td>Website_rebranded</td>\n",
       "      <td>57</td>\n",
       "      <td>1</td>\n",
       "      <td>0.017544</td>\n",
       "    </tr>\n",
       "    <tr>\n",
       "      <th>9</th>\n",
       "      <td>Facebook Ads</td>\n",
       "      <td>4121</td>\n",
       "      <td>55</td>\n",
       "      <td>0.013346</td>\n",
       "    </tr>\n",
       "    <tr>\n",
       "      <th>10</th>\n",
       "      <td>Social_instagram</td>\n",
       "      <td>90</td>\n",
       "      <td>1</td>\n",
       "      <td>0.011111</td>\n",
       "    </tr>\n",
       "    <tr>\n",
       "      <th>11</th>\n",
       "      <td>googleadwords_int</td>\n",
       "      <td>44906</td>\n",
       "      <td>204</td>\n",
       "      <td>0.004543</td>\n",
       "    </tr>\n",
       "    <tr>\n",
       "      <th>12</th>\n",
       "      <td>Facebook CTA button</td>\n",
       "      <td>22</td>\n",
       "      <td>0</td>\n",
       "      <td>0.000000</td>\n",
       "    </tr>\n",
       "    <tr>\n",
       "      <th>13</th>\n",
       "      <td>launch</td>\n",
       "      <td>1</td>\n",
       "      <td>0</td>\n",
       "      <td>0.000000</td>\n",
       "    </tr>\n",
       "    <tr>\n",
       "      <th>14</th>\n",
       "      <td>hs_automation</td>\n",
       "      <td>1</td>\n",
       "      <td>0</td>\n",
       "      <td>0.000000</td>\n",
       "    </tr>\n",
       "    <tr>\n",
       "      <th>15</th>\n",
       "      <td>Instagram</td>\n",
       "      <td>1</td>\n",
       "      <td>0</td>\n",
       "      <td>0.000000</td>\n",
       "    </tr>\n",
       "    <tr>\n",
       "      <th>16</th>\n",
       "      <td>fb</td>\n",
       "      <td>1</td>\n",
       "      <td>0</td>\n",
       "      <td>0.000000</td>\n",
       "    </tr>\n",
       "    <tr>\n",
       "      <th>17</th>\n",
       "      <td>dv360</td>\n",
       "      <td>1</td>\n",
       "      <td>0</td>\n",
       "      <td>0.000000</td>\n",
       "    </tr>\n",
       "    <tr>\n",
       "      <th>18</th>\n",
       "      <td>archdaily.com</td>\n",
       "      <td>5</td>\n",
       "      <td>0</td>\n",
       "      <td>0.000000</td>\n",
       "    </tr>\n",
       "    <tr>\n",
       "      <th>19</th>\n",
       "      <td>adwords</td>\n",
       "      <td>1</td>\n",
       "      <td>0</td>\n",
       "      <td>0.000000</td>\n",
       "    </tr>\n",
       "    <tr>\n",
       "      <th>20</th>\n",
       "      <td>Social_youtube</td>\n",
       "      <td>3</td>\n",
       "      <td>0</td>\n",
       "      <td>0.000000</td>\n",
       "    </tr>\n",
       "    <tr>\n",
       "      <th>21</th>\n",
       "      <td>doubleclick_int</td>\n",
       "      <td>1</td>\n",
       "      <td>0</td>\n",
       "      <td>0.000000</td>\n",
       "    </tr>\n",
       "  </tbody>\n",
       "</table>\n",
       "</div>"
      ],
      "text/plain": [
       "           media_source  install_count  transactions  \\\n",
       "0             google_lp             57             6   \n",
       "1          confirmation             13             1   \n",
       "2               website            454            23   \n",
       "3            restricted            682            23   \n",
       "4                  None            713            22   \n",
       "5      Apple Search Ads          45630          1291   \n",
       "6       Social_facebook            210             5   \n",
       "7               organic         134690          3178   \n",
       "8     Website_rebranded             57             1   \n",
       "9          Facebook Ads           4121            55   \n",
       "10     Social_instagram             90             1   \n",
       "11    googleadwords_int          44906           204   \n",
       "12  Facebook CTA button             22             0   \n",
       "13               launch              1             0   \n",
       "14        hs_automation              1             0   \n",
       "15            Instagram              1             0   \n",
       "16                   fb              1             0   \n",
       "17                dv360              1             0   \n",
       "18        archdaily.com              5             0   \n",
       "19              adwords              1             0   \n",
       "20       Social_youtube              3             0   \n",
       "21      doubleclick_int              1             0   \n",
       "\n",
       "    install_to_subscribe_ratio  \n",
       "0                     0.105263  \n",
       "1                     0.076923  \n",
       "2                     0.050661  \n",
       "3                     0.033724  \n",
       "4                     0.030856  \n",
       "5                     0.028293  \n",
       "6                     0.023810  \n",
       "7                     0.023595  \n",
       "8                     0.017544  \n",
       "9                     0.013346  \n",
       "10                    0.011111  \n",
       "11                    0.004543  \n",
       "12                    0.000000  \n",
       "13                    0.000000  \n",
       "14                    0.000000  \n",
       "15                    0.000000  \n",
       "16                    0.000000  \n",
       "17                    0.000000  \n",
       "18                    0.000000  \n",
       "19                    0.000000  \n",
       "20                    0.000000  \n",
       "21                    0.000000  "
      ]
     },
     "execution_count": 69,
     "metadata": {},
     "output_type": "execute_result"
    }
   ],
   "source": [
    "joined.query(\"install_month >= '2020-05-01'\").groupby(\"media_source\").agg({\"has_transaction\": [\"count\", \"sum\", \"mean\"]}).sort_values((\"has_transaction\",\"mean\"), ascending=False).droplevel(axis=1, level=0).reset_index().rename(columns={\"count\": \"install_count\", \"sum\": \"transactions\", \"mean\": \"install_to_subscribe_ratio\"})"
   ]
  }
 ],
 "metadata": {
  "kernelspec": {
   "display_name": "Python 3.9.12 ('.venv': venv)",
   "language": "python",
   "name": "python3"
  },
  "language_info": {
   "codemirror_mode": {
    "name": "ipython",
    "version": 3
   },
   "file_extension": ".py",
   "mimetype": "text/x-python",
   "name": "python",
   "nbconvert_exporter": "python",
   "pygments_lexer": "ipython3",
   "version": "3.9.12"
  },
  "orig_nbformat": 4,
  "vscode": {
   "interpreter": {
    "hash": "1adb97b05a7b3fcd0cf721c27d1a5103303164f6e4cfc9499732e717c77a944c"
   }
  }
 },
 "nbformat": 4,
 "nbformat_minor": 2
}
